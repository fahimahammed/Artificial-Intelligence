{
  "nbformat": 4,
  "nbformat_minor": 0,
  "metadata": {
    "colab": {
      "provenance": [],
      "authorship_tag": "ABX9TyMTDNkecm99NAkwckx5Loz9",
      "include_colab_link": true
    },
    "kernelspec": {
      "name": "python3",
      "display_name": "Python 3"
    },
    "language_info": {
      "name": "python"
    }
  },
  "cells": [
    {
      "cell_type": "markdown",
      "metadata": {
        "id": "view-in-github",
        "colab_type": "text"
      },
      "source": [
        "<a href=\"https://colab.research.google.com/github/fahimahammed/Artificial-Intelligence/blob/main/cnn_looks_like_vgg16_and_transfer_weights.ipynb\" target=\"_parent\"><img src=\"https://colab.research.google.com/assets/colab-badge.svg\" alt=\"Open In Colab\"/></a>"
      ]
    },
    {
      "cell_type": "markdown",
      "source": [
        "### Build a CNN which exactly looks like VGG16. Transfer weights of pre-trained VGG16 to the newly built VGG16."
      ],
      "metadata": {
        "id": "_WKXqeEgT4rJ"
      }
    },
    {
      "cell_type": "code",
      "source": [
        "from tensorflow.keras.layers import Input, Conv2D, MaxPooling2D, Flatten, Dense\n",
        "from tensorflow.keras.models import Model\n",
        "from tensorflow.keras.applications.vgg16 import VGG16"
      ],
      "metadata": {
        "id": "LxTj_DvdT8Gz"
      },
      "execution_count": 1,
      "outputs": []
    },
    {
      "cell_type": "markdown",
      "source": [
        "Building a CNN which exactly looks like VGG16"
      ],
      "metadata": {
        "id": "MYRptQf1WFXg"
      }
    },
    {
      "cell_type": "code",
      "source": [
        "inputs = Input((224, 224, 3))\n",
        "\n",
        "# Block 1\n",
        "x = Conv2D(filters= 64, kernel_size = (3, 3), activation = 'relu', name = 'block1_conv1', padding='same')(inputs)\n",
        "x = Conv2D(filters= 64, kernel_size = (3, 3), activation = 'relu', name = 'block1_conv2', padding='same')(x)\n",
        "x = MaxPooling2D(name='block1_pool')(x)\n",
        "\n",
        "# Block 2\n",
        "x = Conv2D(filters= 128, kernel_size = (3, 3), activation = 'relu', name = 'block2_conv1', padding='same')(x)\n",
        "x = Conv2D(filters= 128, kernel_size = (3, 3), activation = 'relu', name = 'block2_conv2', padding='same')(x)\n",
        "x = MaxPooling2D(name='block2_pool')(x)\n",
        "\n",
        "# Block 3\n",
        "x = Conv2D(filters= 256, kernel_size = (3, 3), activation = 'relu', name = 'block3_conv1', padding='same')(x)\n",
        "x = Conv2D(filters= 256, kernel_size = (3, 3), activation = 'relu', name = 'block3_conv2', padding='same')(x)\n",
        "x = Conv2D(filters= 256, kernel_size = (3, 3), activation = 'relu', name = 'block3_conv3', padding='same')(x)\n",
        "x = MaxPooling2D(name='block3_pool')(x)\n",
        "\n",
        "# Block 4\n",
        "x = Conv2D(filters= 512, kernel_size = (3, 3), activation = 'relu', name = 'block4_conv1', padding='same')(x)\n",
        "x = Conv2D(filters= 512, kernel_size = (3, 3), activation = 'relu', name = 'block4_conv2', padding='same')(x)\n",
        "x = Conv2D(filters= 512, kernel_size = (3, 3), activation = 'relu', name = 'block4_conv3', padding='same')(x)\n",
        "x = MaxPooling2D(name='block4_pool')(x)\n",
        "\n",
        "\n",
        "x = Flatten(name='flatten')(x)\n",
        "x = Dense(4096, activation = 'relu', name = 'fc1')(x)\n",
        "x = Dense(4096, activation = 'relu', name = 'fc2')(x)\n",
        "\n",
        "outputs = Dense(1000, activation='sigmoid', name= 'output_layer')(x)\n",
        "model = Model(inputs, outputs, name = 'My_VGG16_Model')\n",
        "\n",
        "model.summary()"
      ],
      "metadata": {
        "colab": {
          "base_uri": "https://localhost:8080/"
        },
        "id": "XkaB4DG7WE60",
        "outputId": "aba71d3c-92a3-4a16-f9b8-677606799b67"
      },
      "execution_count": 2,
      "outputs": [
        {
          "output_type": "stream",
          "name": "stdout",
          "text": [
            "Model: \"My_VGG16_Model\"\n",
            "_________________________________________________________________\n",
            " Layer (type)                Output Shape              Param #   \n",
            "=================================================================\n",
            " input_1 (InputLayer)        [(None, 224, 224, 3)]     0         \n",
            "                                                                 \n",
            " block1_conv1 (Conv2D)       (None, 224, 224, 64)      1792      \n",
            "                                                                 \n",
            " block1_conv2 (Conv2D)       (None, 224, 224, 64)      36928     \n",
            "                                                                 \n",
            " block1_pool (MaxPooling2D)  (None, 112, 112, 64)      0         \n",
            "                                                                 \n",
            " block2_conv1 (Conv2D)       (None, 112, 112, 128)     73856     \n",
            "                                                                 \n",
            " block2_conv2 (Conv2D)       (None, 112, 112, 128)     147584    \n",
            "                                                                 \n",
            " block2_pool (MaxPooling2D)  (None, 56, 56, 128)       0         \n",
            "                                                                 \n",
            " block3_conv1 (Conv2D)       (None, 56, 56, 256)       295168    \n",
            "                                                                 \n",
            " block3_conv2 (Conv2D)       (None, 56, 56, 256)       590080    \n",
            "                                                                 \n",
            " block3_conv3 (Conv2D)       (None, 56, 56, 256)       590080    \n",
            "                                                                 \n",
            " block3_pool (MaxPooling2D)  (None, 28, 28, 256)       0         \n",
            "                                                                 \n",
            " block4_conv1 (Conv2D)       (None, 28, 28, 512)       1180160   \n",
            "                                                                 \n",
            " block4_conv2 (Conv2D)       (None, 28, 28, 512)       2359808   \n",
            "                                                                 \n",
            " block4_conv3 (Conv2D)       (None, 28, 28, 512)       2359808   \n",
            "                                                                 \n",
            " block4_pool (MaxPooling2D)  (None, 14, 14, 512)       0         \n",
            "                                                                 \n",
            " flatten (Flatten)           (None, 100352)            0         \n",
            "                                                                 \n",
            " fc1 (Dense)                 (None, 4096)              411045888 \n",
            "                                                                 \n",
            " fc2 (Dense)                 (None, 4096)              16781312  \n",
            "                                                                 \n",
            " output_layer (Dense)        (None, 1000)              4097000   \n",
            "                                                                 \n",
            "=================================================================\n",
            "Total params: 439559464 (1.64 GB)\n",
            "Trainable params: 439559464 (1.64 GB)\n",
            "Non-trainable params: 0 (0.00 Byte)\n",
            "_________________________________________________________________\n"
          ]
        }
      ]
    },
    {
      "cell_type": "markdown",
      "source": [
        "Transfering weights from pre-trained VGG16 to the newly built VGG16"
      ],
      "metadata": {
        "id": "Y1XESUUfZoXG"
      }
    },
    {
      "cell_type": "code",
      "source": [
        "vggModel = VGG16()"
      ],
      "metadata": {
        "id": "fmWKrQ2DUlij",
        "colab": {
          "base_uri": "https://localhost:8080/"
        },
        "outputId": "00b9863f-fb42-49d5-faf7-5d4913092248"
      },
      "execution_count": 3,
      "outputs": [
        {
          "output_type": "stream",
          "name": "stdout",
          "text": [
            "Downloading data from https://storage.googleapis.com/tensorflow/keras-applications/vgg16/vgg16_weights_tf_dim_ordering_tf_kernels.h5\n",
            "553467096/553467096 [==============================] - 5s 0us/step\n"
          ]
        }
      ]
    },
    {
      "cell_type": "code",
      "source": [
        "for i in range(len(model.layers)):\n",
        "  customizedLayer = model.layers[i]\n",
        "  vgg16Layer = vggModel.layers[i]\n",
        "\n",
        "  #print(customizedLayer.name, vgg16Layer.name)\n",
        "\n",
        "  if customizedLayer.name == vgg16Layer.name:\n",
        "    customizedLayer.set_weights(vgg16Layer.get_weights())"
      ],
      "metadata": {
        "id": "KnuB2XVBZ-3n"
      },
      "execution_count": 4,
      "outputs": []
    },
    {
      "cell_type": "code",
      "source": [
        "model.summary()"
      ],
      "metadata": {
        "colab": {
          "base_uri": "https://localhost:8080/"
        },
        "id": "Lw8NN5TGan3K",
        "outputId": "fb5a2224-2d5d-44f2-a555-8d3ce36990a1"
      },
      "execution_count": 5,
      "outputs": [
        {
          "output_type": "stream",
          "name": "stdout",
          "text": [
            "Model: \"My_VGG16_Model\"\n",
            "_________________________________________________________________\n",
            " Layer (type)                Output Shape              Param #   \n",
            "=================================================================\n",
            " input_1 (InputLayer)        [(None, 224, 224, 3)]     0         \n",
            "                                                                 \n",
            " block1_conv1 (Conv2D)       (None, 224, 224, 64)      1792      \n",
            "                                                                 \n",
            " block1_conv2 (Conv2D)       (None, 224, 224, 64)      36928     \n",
            "                                                                 \n",
            " block1_pool (MaxPooling2D)  (None, 112, 112, 64)      0         \n",
            "                                                                 \n",
            " block2_conv1 (Conv2D)       (None, 112, 112, 128)     73856     \n",
            "                                                                 \n",
            " block2_conv2 (Conv2D)       (None, 112, 112, 128)     147584    \n",
            "                                                                 \n",
            " block2_pool (MaxPooling2D)  (None, 56, 56, 128)       0         \n",
            "                                                                 \n",
            " block3_conv1 (Conv2D)       (None, 56, 56, 256)       295168    \n",
            "                                                                 \n",
            " block3_conv2 (Conv2D)       (None, 56, 56, 256)       590080    \n",
            "                                                                 \n",
            " block3_conv3 (Conv2D)       (None, 56, 56, 256)       590080    \n",
            "                                                                 \n",
            " block3_pool (MaxPooling2D)  (None, 28, 28, 256)       0         \n",
            "                                                                 \n",
            " block4_conv1 (Conv2D)       (None, 28, 28, 512)       1180160   \n",
            "                                                                 \n",
            " block4_conv2 (Conv2D)       (None, 28, 28, 512)       2359808   \n",
            "                                                                 \n",
            " block4_conv3 (Conv2D)       (None, 28, 28, 512)       2359808   \n",
            "                                                                 \n",
            " block4_pool (MaxPooling2D)  (None, 14, 14, 512)       0         \n",
            "                                                                 \n",
            " flatten (Flatten)           (None, 100352)            0         \n",
            "                                                                 \n",
            " fc1 (Dense)                 (None, 4096)              411045888 \n",
            "                                                                 \n",
            " fc2 (Dense)                 (None, 4096)              16781312  \n",
            "                                                                 \n",
            " output_layer (Dense)        (None, 1000)              4097000   \n",
            "                                                                 \n",
            "=================================================================\n",
            "Total params: 439559464 (1.64 GB)\n",
            "Trainable params: 439559464 (1.64 GB)\n",
            "Non-trainable params: 0 (0.00 Byte)\n",
            "_________________________________________________________________\n"
          ]
        }
      ]
    },
    {
      "cell_type": "code",
      "source": [
        "for i in range(len(model.layers)):\n",
        "    customizedLayer = model.layers[i]\n",
        "    vgg16Layer = vggModel.layers[i]\n",
        "\n",
        "    if customizedLayer.name == vgg16Layer.name:\n",
        "        if len(customizedLayer.get_weights()) > 0:\n",
        "            # Check if weights are equal\n",
        "            weights_equal = (customizedLayer.get_weights()[0] == vgg16Layer.get_weights()[0]).all() and \\\n",
        "                            (customizedLayer.get_weights()[1] == vgg16Layer.get_weights()[1]).all()\n",
        "            if weights_equal:\n",
        "                print(f\"Weights transferred successfully for layer: {customizedLayer.name}\")\n",
        "            else:\n",
        "                print(f\"Warning: Weights NOT transferred for layer: {customizedLayer.name}\")\n",
        "        else:\n",
        "            print(f\"Layer {customizedLayer.name} does not have weights.\")"
      ],
      "metadata": {
        "id": "qFdGDfJdbZeQ",
        "colab": {
          "base_uri": "https://localhost:8080/"
        },
        "outputId": "408b33e5-b3bb-40cf-c451-c07da2658aae"
      },
      "execution_count": 8,
      "outputs": [
        {
          "output_type": "stream",
          "name": "stdout",
          "text": [
            "Weights transferred successfully for layer: block1_conv1\n",
            "Weights transferred successfully for layer: block1_conv2\n",
            "Layer block1_pool does not have weights.\n",
            "Weights transferred successfully for layer: block2_conv1\n",
            "Weights transferred successfully for layer: block2_conv2\n",
            "Layer block2_pool does not have weights.\n",
            "Weights transferred successfully for layer: block3_conv1\n",
            "Weights transferred successfully for layer: block3_conv2\n",
            "Weights transferred successfully for layer: block3_conv3\n",
            "Layer block3_pool does not have weights.\n",
            "Weights transferred successfully for layer: block4_conv1\n",
            "Weights transferred successfully for layer: block4_conv2\n",
            "Weights transferred successfully for layer: block4_conv3\n",
            "Layer block4_pool does not have weights.\n"
          ]
        }
      ]
    },
    {
      "cell_type": "code",
      "source": [],
      "metadata": {
        "id": "gcV6EW2nvhhI"
      },
      "execution_count": null,
      "outputs": []
    }
  ]
}