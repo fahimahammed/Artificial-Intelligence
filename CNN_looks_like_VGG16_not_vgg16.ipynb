{
  "nbformat": 4,
  "nbformat_minor": 0,
  "metadata": {
    "colab": {
      "provenance": [],
      "authorship_tag": "ABX9TyMQaNX494ThkH8+laTppVxL",
      "include_colab_link": true
    },
    "kernelspec": {
      "name": "python3",
      "display_name": "Python 3"
    },
    "language_info": {
      "name": "python"
    }
  },
  "cells": [
    {
      "cell_type": "markdown",
      "metadata": {
        "id": "view-in-github",
        "colab_type": "text"
      },
      "source": [
        "<a href=\"https://colab.research.google.com/github/fahimahammed/Artificial-Intelligence/blob/main/CNN_looks_like_VGG16_not_vgg16.ipynb\" target=\"_parent\"><img src=\"https://colab.research.google.com/assets/colab-badge.svg\" alt=\"Open In Colab\"/></a>"
      ]
    },
    {
      "cell_type": "markdown",
      "source": [
        "### Build a CNN which will look like VGG16, but will not be exactly VGG16."
      ],
      "metadata": {
        "id": "QfJzToWKxMkB"
      }
    },
    {
      "cell_type": "code",
      "execution_count": 1,
      "metadata": {
        "id": "eYCvu8NPw2Hu"
      },
      "outputs": [],
      "source": [
        "from tensorflow.keras.applications.vgg16 import VGG16\n",
        "from tensorflow.keras.models import Model\n",
        "from tensorflow.keras.layers import Input, Dense, Flatten, MaxPooling2D, Conv2D"
      ]
    },
    {
      "cell_type": "code",
      "source": [
        "inputs = Input((224, 224, 4))\n",
        "\n",
        "x = Conv2D(filters= 64, kernel_size=(3,3), activation = 'relu', name = 'block1_conv1', padding = 'same')(inputs)\n",
        "x = Conv2D(filters= 64, kernel_size=(3,3), activation = 'relu', name = 'block1_conv2', padding = 'same')(x)\n",
        "x = MaxPooling2D(name = 'block1_pool')(x)\n",
        "\n",
        "x = Conv2D(filters= 128, kernel_size=(3,3), activation = 'relu', name = 'block2_conv1', padding = 'same')(x)\n",
        "x = Conv2D(filters= 128, kernel_size=(3,3), activation = 'relu', name = 'block2_conv2', padding = 'same')(x)\n",
        "x = Conv2D(filters= 128, kernel_size=(3,3), activation = 'relu', name = 'block2_conv3', padding = 'same')(x)\n",
        "x = Conv2D(filters= 128, kernel_size=(3,3), activation = 'relu', name = 'block2_conv4', padding = 'same')(x)\n",
        "x = MaxPooling2D(name = 'block2_pool')(x)\n",
        "\n",
        "x = Conv2D(filters= 256, kernel_size=(3,3), activation = 'relu', name = 'block3_conv1', padding = 'same')(x)\n",
        "x = Conv2D(filters= 256, kernel_size=(3,3), activation = 'relu', name = 'block3_conv2', padding = 'same')(x)\n",
        "x = Conv2D(filters= 256, kernel_size=(3,3), activation = 'relu', name = 'block3_conv3', padding = 'same')(x)\n",
        "x = Conv2D(filters= 256, kernel_size=(3,3), activation = 'relu', name = 'block3_conv4', padding = 'same')(x)\n",
        "x = MaxPooling2D(name = 'block3_pool')(x)\n",
        "\n",
        "x = Conv2D(filters= 512, kernel_size=(3,3), activation = 'relu', name = 'block4_conv1', padding = 'same')(x)\n",
        "x = Conv2D(filters= 512, kernel_size=(3,3), activation = 'relu', name = 'block4_conv2', padding = 'same')(x)\n",
        "x = Conv2D(filters= 512, kernel_size=(3,3), activation = 'relu', name = 'block4_conv3', padding = 'same')(x)\n",
        "x = Conv2D(filters= 512, kernel_size=(3,3), activation = 'relu', name = 'block4_conv4', padding = 'same')(x)\n",
        "x = MaxPooling2D(name = 'block4_pool')(x)\n",
        "\n",
        "x = Flatten(name='flatten')(x)\n",
        "x = Dense(8192, activation='relu', name = 'fc1')(x)\n",
        "x = Dense(4096, activation='relu', name = 'fc2')(x)\n",
        "x = Dense(2048, activation='relu', name = 'fc3')(x)\n",
        "x = Dense(1024, activation='relu', name = 'fc4')(x)\n",
        "\n",
        "outputs = Dense(101, activation='sigmoid', name = 'output_layer')(x)\n",
        "model = Model(inputs, outputs, name = \"MY_CUSTOMIZED_MODEL\")\n",
        "\n",
        "model.summary()"
      ],
      "metadata": {
        "colab": {
          "base_uri": "https://localhost:8080/"
        },
        "id": "KI-RORNFxKzq",
        "outputId": "f964cd8f-9f95-4a6d-8c8f-c10c8ff63a51"
      },
      "execution_count": 2,
      "outputs": [
        {
          "output_type": "stream",
          "name": "stdout",
          "text": [
            "Model: \"MY_CUSTOMIZED_MODEL\"\n",
            "_________________________________________________________________\n",
            " Layer (type)                Output Shape              Param #   \n",
            "=================================================================\n",
            " input_1 (InputLayer)        [(None, 224, 224, 4)]     0         \n",
            "                                                                 \n",
            " block1_conv1 (Conv2D)       (None, 224, 224, 64)      2368      \n",
            "                                                                 \n",
            " block1_conv2 (Conv2D)       (None, 224, 224, 64)      36928     \n",
            "                                                                 \n",
            " block1_pool (MaxPooling2D)  (None, 112, 112, 64)      0         \n",
            "                                                                 \n",
            " block2_conv1 (Conv2D)       (None, 112, 112, 128)     73856     \n",
            "                                                                 \n",
            " block2_conv2 (Conv2D)       (None, 112, 112, 128)     147584    \n",
            "                                                                 \n",
            " block2_conv3 (Conv2D)       (None, 112, 112, 128)     147584    \n",
            "                                                                 \n",
            " block2_conv4 (Conv2D)       (None, 112, 112, 128)     147584    \n",
            "                                                                 \n",
            " block2_pool (MaxPooling2D)  (None, 56, 56, 128)       0         \n",
            "                                                                 \n",
            " block3_conv1 (Conv2D)       (None, 56, 56, 256)       295168    \n",
            "                                                                 \n",
            " block3_conv2 (Conv2D)       (None, 56, 56, 256)       590080    \n",
            "                                                                 \n",
            " block3_conv3 (Conv2D)       (None, 56, 56, 256)       590080    \n",
            "                                                                 \n",
            " block3_conv4 (Conv2D)       (None, 56, 56, 256)       590080    \n",
            "                                                                 \n",
            " block3_pool (MaxPooling2D)  (None, 28, 28, 256)       0         \n",
            "                                                                 \n",
            " block4_conv1 (Conv2D)       (None, 28, 28, 512)       1180160   \n",
            "                                                                 \n",
            " block4_conv2 (Conv2D)       (None, 28, 28, 512)       2359808   \n",
            "                                                                 \n",
            " block4_conv3 (Conv2D)       (None, 28, 28, 512)       2359808   \n",
            "                                                                 \n",
            " block4_conv4 (Conv2D)       (None, 28, 28, 512)       2359808   \n",
            "                                                                 \n",
            " block4_pool (MaxPooling2D)  (None, 14, 14, 512)       0         \n",
            "                                                                 \n",
            " flatten (Flatten)           (None, 100352)            0         \n",
            "                                                                 \n",
            " fc1 (Dense)                 (None, 8192)              822091776 \n",
            "                                                                 \n",
            " fc2 (Dense)                 (None, 4096)              33558528  \n",
            "                                                                 \n",
            " fc3 (Dense)                 (None, 2048)              8390656   \n",
            "                                                                 \n",
            " fc4 (Dense)                 (None, 1024)              2098176   \n",
            "                                                                 \n",
            " output_layer (Dense)        (None, 101)               103525    \n",
            "                                                                 \n",
            "=================================================================\n",
            "Total params: 877123557 (3.27 GB)\n",
            "Trainable params: 877123557 (3.27 GB)\n",
            "Non-trainable params: 0 (0.00 Byte)\n",
            "_________________________________________________________________\n"
          ]
        }
      ]
    },
    {
      "cell_type": "code",
      "source": [],
      "metadata": {
        "id": "SRbtddHUxxto"
      },
      "execution_count": 2,
      "outputs": []
    }
  ]
}