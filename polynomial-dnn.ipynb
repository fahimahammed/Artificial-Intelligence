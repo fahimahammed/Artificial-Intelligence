{
 "cells": [
  {
   "cell_type": "markdown",
   "metadata": {},
   "source": [
    "Implement a simple deep neural network for solving the polynomial y = 5x^3 - 8x^2 - 7x + 1 with the following specifications:\n",
    "\n",
    "- Use three hidden-layers of sizes 32, 64, and 128 and display the generated DNN with the required number of parameters.\n",
    "- Generate training samples within the range of -20 to +20. Use the appropriate method for normalizing the training data in the range of -1 to +1.\n",
    "- Use 5% of the samples as test data and 5% of the samples as validation data and the rest of the data for training the DNN with and appropriate number of epochs.\n",
    "- Display the training accuracy vs validation accuracy and training error vs validation error curves.\n",
    "- After training, use the test data for prediction and display the prediction accuracy vs true levels of the test data."
   ]
  },
  {
   "cell_type": "code",
   "execution_count": null,
   "metadata": {},
   "outputs": [],
   "source": []
  }
 ],
 "metadata": {
  "language_info": {
   "name": "python"
  }
 },
 "nbformat": 4,
 "nbformat_minor": 2
}
